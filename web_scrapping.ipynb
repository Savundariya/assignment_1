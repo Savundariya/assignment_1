{
 "cells": [
  {
   "cell_type": "code",
   "execution_count": 20,
   "metadata": {},
   "outputs": [
    {
     "name": "stdout",
     "output_type": "stream",
     "text": [
      "No more movies to load for Action.\n",
      "Data saved to imdb_action_movies.csv\n",
      "No more movies to load for Comedy.\n",
      "Data saved to imdb_comedy_movies.csv\n",
      "No more movies to load for Crime.\n",
      "Data saved to imdb_crime_movies.csv\n",
      "No more movies to load for Fantasy.\n",
      "Data saved to imdb_fantasy.csv\n",
      "No more movies to load for Romance.\n",
      "Data saved to imdb_romance_movies.csv\n"
     ]
    }
   ],
   "source": [
    "from selenium import webdriver\n",
    "from selenium.webdriver.common.by import By\n",
    "from selenium.webdriver.support.ui import WebDriverWait\n",
    "from selenium.webdriver.support import expected_conditions as EC\n",
    "from selenium.webdriver.common.action_chains import ActionChains\n",
    "import time\n",
    "import re\n",
    "import csv\n",
    "\n",
    "def scrape_imdb_movies(genre_name, csv_filename):\n",
    "    # Initialize WebDriver\n",
    "    driver = webdriver.Chrome()\n",
    "    driver.implicitly_wait(5)\n",
    "\n",
    "    # Open IMDb search page\n",
    "    driver.get('https://www.imdb.com/search/title/?title_type=feature&release_date=2024-01-01,2024-12-31')\n",
    "    driver.maximize_window()\n",
    "\n",
    "    # Wait for Genre dropdown to be visible\n",
    "    genre_dropdown = WebDriverWait(driver, 10).until(\n",
    "        EC.visibility_of_element_located((By.XPATH, \"//*[@id='genreAccordion']/div[1]/label\"))\n",
    "    )\n",
    "\n",
    "    # Scroll to the Genre dropdown and click it\n",
    "    actions = ActionChains(driver)\n",
    "    actions.move_to_element(genre_dropdown).perform()\n",
    "    genre_dropdown.click()\n",
    "    time.sleep(2)\n",
    "\n",
    "    # Select the desired genre\n",
    "    genre_button = WebDriverWait(driver, 10).until(\n",
    "        EC.element_to_be_clickable((By.XPATH, f\"//button[span[text()='{genre_name}']]\"))\n",
    "    )\n",
    "\n",
    "    # Scroll to the genre button before clicking\n",
    "    actions.move_to_element(genre_button).click().perform()\n",
    "    time.sleep(3)\n",
    "\n",
    "    # Keep clicking \"50 more\" until it disappears\n",
    "    while True:\n",
    "        try:\n",
    "            more_button = WebDriverWait(driver, 5).until(\n",
    "                EC.element_to_be_clickable((By.XPATH, \"/html/body/div[2]/main/div[2]/div[3]/section/section/div/section/section/div[2]/div/section/div[2]/div[2]/div[2]/div/span/button\"))\n",
    "            )\n",
    "            actions.move_to_element(more_button).perform()\n",
    "            more_button.click()\n",
    "            time.sleep(3)  # Wait for new data to load\n",
    "        except:\n",
    "            print(f\"No more movies to load for {genre_name}.\")\n",
    "            break  # Exit loop when button is not found\n",
    "\n",
    "    # Get the movie title elements\n",
    "    movie_elements = driver.find_elements(By.XPATH, \"//h3[@class='ipc-title__text']\")\n",
    "    movie_titles = [title.text for title in movie_elements if \"Recently viewed\" not in title.text]\n",
    "\n",
    "    durations = driver.find_elements(By.XPATH, \"//span[contains(@class, 'sc-f30335b4-7 jhjEEd dli-title-metadata-item') and contains(text(), 'h')]\")\n",
    "    ratings = driver.find_elements(By.XPATH, \"//span[contains(@class, 'ipc-rating-star--rating')]\")\n",
    "    votes = [re.sub(r\"[()\\s]\", \"\", vote.text)  \n",
    "             for vote in driver.find_elements(By.XPATH, \"//span[contains(@class, 'ipc-rating-star--voteCount')]\")]\n",
    "\n",
    "    # Ensure lists have the same length to avoid mismatches\n",
    "    movie_data = []\n",
    "    for i in range(len(movie_titles)):  \n",
    "        title = movie_titles[i]\n",
    "        duration = durations[i].text if i < len(durations) else \"N/A\"  \n",
    "        rating = ratings[i].text if i < len(ratings) else \"N/A\"\n",
    "        vote = votes[i] if i < len(votes) else \"N/A\"  \n",
    "\n",
    "        # Convert votes if in shorthand format (e.g., \"44k\" → 44000)\n",
    "        if vote.replace(\"-\", \"\").isdigit():  \n",
    "            vote = str(abs(int(vote)))  \n",
    "\n",
    "        # Append data with Genre column\n",
    "        movie_data.append([title, duration, rating, vote, genre_name])\n",
    "\n",
    "    # Save data to CSV\n",
    "    with open(csv_filename, mode='w', newline='', encoding='utf-8') as file:\n",
    "        writer = csv.writer(file)\n",
    "        writer.writerow([\"Title\", \"Duration\", \"Rating\", \"Votes\", \"Genre\"])  # Updated Header\n",
    "        writer.writerows(movie_data)\n",
    "\n",
    "    print(f\"Data saved to {csv_filename}\")\n",
    "\n",
    "    # Close the driver\n",
    "    driver.quit()\n",
    "\n",
    "# **Scrape multiple genres and save them with the Genre column**\n",
    "scrape_imdb_movies(\"Action\", \"imdb_action_movies.csv\")\n",
    "scrape_imdb_movies(\"Comedy\", \"imdb_comedy_movies.csv\")\n",
    "scrape_imdb_movies(\"Crime\", \"imdb_crime_movies.csv\")\n",
    "scrape_imdb_movies(\"Fantasy\", \"imdb_fantasy.csv\")\n",
    "scrape_imdb_movies(\"Romance\", \"imdb_romance_movies.csv\")"
   ]
  },
  {
   "cell_type": "code",
   "execution_count": 21,
   "metadata": {},
   "outputs": [
    {
     "name": "stdout",
     "output_type": "stream",
     "text": [
      "Files in folder: ['imdb_action_movies.csv', 'imdb_comedy_movies.csv', 'imdb_crime_movies.csv', 'imdb_fantasy.csv', 'imdb_romance_movies.csv', 'web_scrapping.ipynb']\n"
     ]
    }
   ],
   "source": [
    "import os\n",
    "\n",
    "folder_path = r\"C:\\Users\\Dell\\VS_code\\Project1\\Final_Project\"\n",
    "\n",
    "# List all files in the directory\n",
    "files = os.listdir(folder_path)\n",
    "\n",
    "print(\"Files in folder:\", files)"
   ]
  },
  {
   "cell_type": "code",
   "execution_count": 25,
   "metadata": {},
   "outputs": [
    {
     "name": "stdout",
     "output_type": "stream",
     "text": [
      "All CSV files have been merged into 'combined_imdb_movies.csv' in C:\\Users\\Dell\\VS_code\\Project1\\Final_Project\n"
     ]
    }
   ],
   "source": [
    "import pandas as pd\n",
    "\n",
    "# Define the folder path\n",
    "folder_path = r\"C:\\Users\\Dell\\VS_code\\Project1\\Final_Project\"\n",
    "\n",
    "# Manually list the CSV filenames\n",
    "csv_files = [\n",
    "    \"imdb_action_movies.csv\",\n",
    "    \"imdb_comedy_movies.csv\",\n",
    "    \"imdb_crime_movies.csv\",\n",
    "    \"imdb_fantasy.csv\",\n",
    "    \"imdb_romance_movies.csv\"\n",
    "]\n",
    "\n",
    "# Create full file paths\n",
    "file_paths = [f\"{folder_path}\\\\{file}\" for file in csv_files]\n",
    "\n",
    "# Load and concatenate all CSV files\n",
    "df_list = [pd.read_csv(file) for file in file_paths]\n",
    "df = pd.concat(df_list, ignore_index=True)\n",
    "\n",
    "# Save the combined data to a new CSV file\n",
    "df.to_csv(f\"{folder_path}\\\\combined_imdb_movies.csv\", index=False)\n",
    "\n",
    "print(f\"All CSV files have been merged into 'combined_imdb_movies.csv' in {folder_path}\")"
   ]
  },
  {
   "cell_type": "code",
   "execution_count": 10,
   "metadata": {},
   "outputs": [
    {
     "name": "stdout",
     "output_type": "stream",
     "text": [
      "Data cleaning complete. File saved as 'cleaned_imdb_movies.csv'\n"
     ]
    }
   ],
   "source": [
    "import pandas as pd\n",
    "import re\n",
    "\n",
    "\n",
    "# Load the IMDb data\n",
    "df = pd.read_csv(r\"C:\\Users\\Dell\\VS_code\\Project1\\Final_Project\\combined_imdb_movies.csv\")\n",
    "\n",
    "# 1️. Remove serial numbers from the title\n",
    "df['Title'] = df['Title'].astype(str).str.replace(r'^\\d+\\.\\s+', '', regex=True)\n",
    "\n",
    "# 2️. Convert duration to minutes\n",
    "def convert_duration(duration):\n",
    "    match = re.match(r'(?:(\\d+)h\\s*)?(?:(\\d+)m)?', str(duration))\n",
    "    if match:\n",
    "        hours = int(match.group(1)) * 60 if match.group(1) else 0\n",
    "        minutes = int(match.group(2)) if match.group(2) else 0\n",
    "        return hours + minutes  # Ensure output is an integer\n",
    "    return None  # Keep missing values as NaN\n",
    "\n",
    "df['Duration'] = df['Duration'].astype(str).apply(convert_duration)\n",
    "df = df.rename(columns={\"Duration\": \"Duration(in_mins)\"})\n",
    "\n",
    "\n",
    "# 3️. Convert votes from shorthand (\"1.6k\" → 1600)\n",
    "def convert_votes(votes):\n",
    "    match = re.match(r'(\\d+(\\.\\d+)?)([kKmM]?)', str(votes))\n",
    "    if match:\n",
    "        num = float(match.group(1))\n",
    "        suffix = match.group(3).lower()\n",
    "        if suffix == 'k':  \n",
    "            num *= 1000\n",
    "        elif suffix == 'm':  \n",
    "            num *= 1000000\n",
    "        return int(num)  # Convert to integer\n",
    "    return None  # Keep missing values as NaN\n",
    "\n",
    "df['Votes'] = df['Votes'].astype(str).apply(convert_votes)\n",
    "\n",
    "# Save the cleaned data\n",
    "df.to_csv(r\"C:\\Users\\Dell\\VS_code\\Project1\\Final_Project\\\\cleaned_imdb_movies.csv\", index=False)\n",
    "\n",
    "print(f\"Data cleaning complete. File saved as 'cleaned_imdb_movies.csv'\")"
   ]
  },
  {
   "cell_type": "code",
   "execution_count": 12,
   "metadata": {},
   "outputs": [],
   "source": [
    "# Remove rows where Duration is 0\n",
    "df = df[df[\"Duration(in_mins)\"] > 0]\n",
    "\n",
    "# Remove rows where Rating or Votes are empty (NaN)\n",
    "df = df.dropna(subset=[\"Rating\", \"Votes\"])\n",
    "\n",
    "df.to_csv(r\"C:\\Users\\Dell\\VS_code\\Project1\\Final_Project\\\\cleaned_imdb_movies_1.csv\", index=False)"
   ]
  }
 ],
 "metadata": {
  "kernelspec": {
   "display_name": "Python 3",
   "language": "python",
   "name": "python3"
  },
  "language_info": {
   "codemirror_mode": {
    "name": "ipython",
    "version": 3
   },
   "file_extension": ".py",
   "mimetype": "text/x-python",
   "name": "python",
   "nbconvert_exporter": "python",
   "pygments_lexer": "ipython3",
   "version": "3.12.8"
  }
 },
 "nbformat": 4,
 "nbformat_minor": 2
}
